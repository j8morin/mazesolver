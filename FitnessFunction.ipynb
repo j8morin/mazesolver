{
 "cells": [
  {
   "cell_type": "code",
   "execution_count": 1,
   "metadata": {},
   "outputs": [],
   "source": [
    "import matplotlib.pyplot as plt\n",
    "import numpy as np"
   ]
  },
  {
   "cell_type": "code",
   "execution_count": 17,
   "metadata": {},
   "outputs": [
    {
     "data": {
      "text/plain": [
       "[<matplotlib.lines.Line2D at 0x17077683be0>]"
      ]
     },
     "execution_count": 17,
     "metadata": {},
     "output_type": "execute_result"
    },
    {
     "data": {
      "image/png": "[encoded data removed]",
      "text/plain": [
       "<Figure size 432x288 with 1 Axes>"
      ]
     },
     "metadata": {
      "needs_background": "light"
     },
     "output_type": "display_data"
    }
   ],
   "source": [
    "grid=[]\n",
    "for i in range(400):\n",
    "    grid.append(i)\n",
    "\n",
    "#print(grid)\n",
    "    \n",
    "def getFitness(cell):\n",
    "        #FV=(CC-SC)/(FC-CC) * 100 with SC=390 and FC=9\n",
    "        SC=0\n",
    "        FC=399\n",
    "        CC=cell\n",
    "        if (FC-CC==0):    #avoid division by zero\n",
    "            return 400\n",
    "        else:\n",
    "            fitness = abs(((CC-SC)/(FC-CC)))\n",
    "        return fitness\n",
    "\n",
    "fitness=[]\n",
    "for i in range (len(grid)):\n",
    "    f=getFitness(grid[i])\n",
    "    fitness.append(f)\n",
    "\n",
    "#print(fitness)\n",
    "t=np.arange(0,400,1)\n",
    "\n",
    "plt.plot(t,fitness)"
   ]
  },
  {
   "cell_type": "code",
   "execution_count": 3,
   "metadata": {},
   "outputs": [
    {
     "name": "stdout",
     "output_type": "stream",
     "text": [
      "144\n"
     ]
    }
   ],
   "source": [
    "t=[1, 2, 3, 0, 3, 1, 2, 0, 0, 0, 1, 0, 2, 1, 1, 1, 2, 2, 2, 1, 3, 3, 2, 0, 1, 2, 3, 1, 0, 1, 2, 2, 3, 3, 0, 2, 2, 0, 3, 3, 2, 3, 3, 1, 2, 3, 3, 3, 3, 2, 0, 1, 1, \n",
    "3, 0, 3, 3, 2, 3, 2, 0, 0, 1, 3, 2, 2, 2, 0, 3, 3, 2, 3, 3, 0, 0, 0, 3, 3, 0, 3, 1, 1, 2, 1, 1, 2, 3, 3, 0, 0, 0, 2, 0, 3, 0, 3, 0, 0, 0, 3, 2, 3, 2, 0, 3, 2, 3, 3, 1, 1, 2, 0, 3, 2, 2, 0, 0, 2, 3, 1, 1, 2, 1, 0, 3, 1, 2, 0, 0, 3, 0, 0, 2, 1, 2, 3, 0, 1, 2, 1, 3, 2, 2, 3]\n",
    "print(len(t))"
   ]
  },
  {
   "cell_type": "code",
   "execution_count": null,
   "metadata": {},
   "outputs": [],
   "source": []
  }
 ],
 "metadata": {
  "kernelspec": {
   "display_name": "Python 3",
   "language": "python",
   "name": "python3"
  },
  "language_info": {
   "codemirror_mode": {
    "name": "ipython",
    "version": 3
   },
   "file_extension": ".py",
   "mimetype": "text/x-python",
   "name": "python",
   "nbconvert_exporter": "python",
   "pygments_lexer": "ipython3",
   "version": "3.8.3"
  }
 },
 "nbformat": 4,
 "nbformat_minor": 4
}
